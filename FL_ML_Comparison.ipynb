{
  "nbformat": 4,
  "nbformat_minor": 0,
  "metadata": {
    "colab": {
      "name": "FL/ML Comparison",
      "provenance": [],
      "collapsed_sections": []
    },
    "kernelspec": {
      "name": "python3",
      "display_name": "Python 3"
    },
    "language_info": {
      "name": "python"
    }
  },
  "cells": [
    {
      "cell_type": "code",
      "execution_count": null,
      "metadata": {
        "colab": {
          "base_uri": "https://localhost:8080/"
        },
        "id": "VwbdAFWZU6YX",
        "outputId": "ad5e2a84-bcf3-4655-9cbd-b26518b6d4ec"
      },
      "outputs": [
        {
          "output_type": "stream",
          "name": "stdout",
          "text": [
            "\u001b[33mWARNING: Skipping tensorboard as it is not installed.\u001b[0m\n",
            "\u001b[33mWARNING: Skipping tb-nightly as it is not installed.\u001b[0m\n"
          ]
        }
      ],
      "source": [
        "!pip uninstall --yes tensorboard tb-nightly\n",
        "\n",
        "!pip install --quiet tensorflow-federated\n",
        "!pip install --quiet --upgrade nest-asyncio\n",
        "!pip install --quiet --upgrade tb\n",
        "!pip install --quiet --upgrade numpy\n",
        "\n",
        "import nest_asyncio\n",
        "nest_asyncio.apply()"
      ]
    },
    {
      "cell_type": "code",
      "source": [
        "import collections\n",
        "import random\n",
        "\n",
        "import numpy as np\n",
        "import tensorflow as tf\n",
        "import tensorflow_federated as tff\n",
        "import matplotlib.pyplot as plt\n",
        "\n",
        "np.random.seed(0)"
      ],
      "metadata": {
        "id": "lRGMxz1FiLRz"
      },
      "execution_count": null,
      "outputs": []
    },
    {
      "cell_type": "code",
      "source": [
        "cifar_train, cifar_test = tff.simulation.datasets.cifar100.load_data()"
      ],
      "metadata": {
        "colab": {
          "base_uri": "https://localhost:8080/"
        },
        "id": "1rKxDJRMiY2Z",
        "outputId": "9a15dcd3-7cc5-4565-9cc6-726477900569"
      },
      "execution_count": null,
      "outputs": [
        {
          "output_type": "stream",
          "name": "stderr",
          "text": [
            "Downloading emnist_all.sqlite.lzma: 100%|██████████| 170507172/170507172 [01:23<00:00, 1004207.26it/s]\n",
            "Downloading cifar100.sqlite.lzma: 100%|██████████| 153019920/153019920 [00:17<00:00, 8429614.24it/s]\n"
          ]
        }
      ]
    },
    {
      "cell_type": "code",
      "source": [
        "NUM_CLIENTS = len(cifar_train.client_ids)\n",
        "NUM_EPOCHS = 10\n",
        "BATCH_SIZE = 20\n",
        "SHUFFLE_BUFFER = 100\n",
        "PREFETCH_BUFFER = 10\n",
        "\n",
        "def preprocess(dataset):\n",
        "\n",
        "  def batch_format_fn(element):\n",
        "    return collections.OrderedDict(\n",
        "        x=tf.reshape(element['image'], [-1, 32, 32, 3]),\n",
        "        y=tf.reshape(element['label'], [-1, 1]))\n",
        "\n",
        "  return dataset.repeat(NUM_EPOCHS).shuffle(SHUFFLE_BUFFER, seed=1).batch(\n",
        "      BATCH_SIZE).map(batch_format_fn).prefetch(PREFETCH_BUFFER)"
      ],
      "metadata": {
        "id": "n6aXExFIihZR"
      },
      "execution_count": null,
      "outputs": []
    },
    {
      "cell_type": "code",
      "source": [
        "def make_federated_data(client_data, client_ids):\n",
        "  return [\n",
        "      preprocess(client_data.create_tf_dataset_for_client(x))\n",
        "      for x in client_ids\n",
        "  ]\n",
        "\n",
        "def getSampleOfClients(numberOfClients, maxClients, clientsIds):\n",
        "  indeces = random.sample(range(0, maxClients), numberOfClients)\n",
        "  clients = []\n",
        "  for i in indeces:\n",
        "    clients.append(clientsIds[i])\n",
        "\n",
        "  return clients"
      ],
      "metadata": {
        "id": "miiTlhrcinoM"
      },
      "execution_count": null,
      "outputs": []
    },
    {
      "cell_type": "code",
      "source": [
        "def create_keras_model():\n",
        "  return tf.keras.applications.MobileNetV2((32, 32, 3), classes=100, weights=None)"
      ],
      "metadata": {
        "id": "7_zQxyhEiqq1"
      },
      "execution_count": null,
      "outputs": []
    },
    {
      "cell_type": "code",
      "source": [
        "def model_fn():\n",
        "  keras_model = create_keras_model()\n",
        "  return tff.learning.from_keras_model(\n",
        "      keras_model,\n",
        "      input_spec=preprocessed_example_dataset.element_spec,\n",
        "      loss=tf.keras.losses.SparseCategoricalCrossentropy(),\n",
        "      metrics=[tf.keras.metrics.SparseCategoricalAccuracy()])"
      ],
      "metadata": {
        "id": "aKBZBKbnisES"
      },
      "execution_count": null,
      "outputs": []
    },
    {
      "cell_type": "code",
      "source": [
        "iterative_process = tff.learning.build_federated_averaging_process(\n",
        "    model_fn,\n",
        "    client_optimizer_fn=lambda: tf.keras.optimizers.SGD(learning_rate=0.02),\n",
        "    server_optimizer_fn=lambda: tf.keras.optimizers.SGD(learning_rate=1.0))"
      ],
      "metadata": {
        "id": "zXajEJrIitrH",
        "colab": {
          "base_uri": "https://localhost:8080/"
        },
        "outputId": "a6b84a47-7f69-490e-8f25-0e39901da7f4"
      },
      "execution_count": null,
      "outputs": [
        {
          "output_type": "stream",
          "name": "stdout",
          "text": [
            "WARNING:tensorflow:From /usr/local/lib/python3.7/dist-packages/tensorflow/python/keras/layers/normalization.py:534: _colocate_with (from tensorflow.python.framework.ops) is deprecated and will be removed in a future version.\n",
            "Instructions for updating:\n",
            "Colocations handled automatically by placer.\n"
          ]
        },
        {
          "output_type": "stream",
          "name": "stderr",
          "text": [
            "WARNING:tensorflow:From /usr/local/lib/python3.7/dist-packages/tensorflow/python/keras/layers/normalization.py:534: _colocate_with (from tensorflow.python.framework.ops) is deprecated and will be removed in a future version.\n",
            "Instructions for updating:\n",
            "Colocations handled automatically by placer.\n"
          ]
        }
      ]
    },
    {
      "cell_type": "code",
      "source": [
        "state = iterative_process.initialize()\n",
        "NUM_ROUNDS = 100\n",
        "for round_num in range(NUM_ROUNDS):\n",
        "  federated_train_data = make_federated_data(cifar_train, getSampleOfClients(20, NUM_CLIENTS, cifar_train.client_ids))\n",
        "  state, metrics = iterative_process.next(state, federated_train_data)\n",
        "  print('round {:2d}, metrics={}'.format(round_num, metrics))"
      ],
      "metadata": {
        "colab": {
          "base_uri": "https://localhost:8080/"
        },
        "id": "3JV8VKYsixks",
        "outputId": "62bb71c0-bc3e-443e-8cd3-b5a4bb2e6e5e"
      },
      "execution_count": null,
      "outputs": [
        {
          "output_type": "stream",
          "name": "stdout",
          "text": [
            "round  0, metrics=OrderedDict([('broadcast', ()), ('aggregation', OrderedDict([('mean_value', ()), ('mean_weight', ())])), ('train', OrderedDict([('sparse_categorical_accuracy', 0.2543), ('loss', 2.9862854)])), ('stat', OrderedDict([('num_examples', 20000)]))])\n",
            "round  1, metrics=OrderedDict([('broadcast', ()), ('aggregation', OrderedDict([('mean_value', ()), ('mean_weight', ())])), ('train', OrderedDict([('sparse_categorical_accuracy', 0.27285), ('loss', 2.8300195)])), ('stat', OrderedDict([('num_examples', 20000)]))])\n",
            "round  2, metrics=OrderedDict([('broadcast', ()), ('aggregation', OrderedDict([('mean_value', ()), ('mean_weight', ())])), ('train', OrderedDict([('sparse_categorical_accuracy', 0.21445), ('loss', 3.1255538)])), ('stat', OrderedDict([('num_examples', 20000)]))])\n",
            "round  3, metrics=OrderedDict([('broadcast', ()), ('aggregation', OrderedDict([('mean_value', ()), ('mean_weight', ())])), ('train', OrderedDict([('sparse_categorical_accuracy', 0.2437), ('loss', 2.9375021)])), ('stat', OrderedDict([('num_examples', 20000)]))])\n",
            "round  4, metrics=OrderedDict([('broadcast', ()), ('aggregation', OrderedDict([('mean_value', ()), ('mean_weight', ())])), ('train', OrderedDict([('sparse_categorical_accuracy', 0.22145), ('loss', 3.0639188)])), ('stat', OrderedDict([('num_examples', 20000)]))])\n",
            "round  5, metrics=OrderedDict([('broadcast', ()), ('aggregation', OrderedDict([('mean_value', ()), ('mean_weight', ())])), ('train', OrderedDict([('sparse_categorical_accuracy', 0.19535), ('loss', 3.195485)])), ('stat', OrderedDict([('num_examples', 20000)]))])\n",
            "round  6, metrics=OrderedDict([('broadcast', ()), ('aggregation', OrderedDict([('mean_value', ()), ('mean_weight', ())])), ('train', OrderedDict([('sparse_categorical_accuracy', 0.2615), ('loss', 2.8236597)])), ('stat', OrderedDict([('num_examples', 20000)]))])\n",
            "round  7, metrics=OrderedDict([('broadcast', ()), ('aggregation', OrderedDict([('mean_value', ()), ('mean_weight', ())])), ('train', OrderedDict([('sparse_categorical_accuracy', 0.2445), ('loss', 2.910899)])), ('stat', OrderedDict([('num_examples', 20000)]))])\n",
            "round  8, metrics=OrderedDict([('broadcast', ()), ('aggregation', OrderedDict([('mean_value', ()), ('mean_weight', ())])), ('train', OrderedDict([('sparse_categorical_accuracy', 0.23075), ('loss', 2.9388893)])), ('stat', OrderedDict([('num_examples', 20000)]))])\n",
            "round  9, metrics=OrderedDict([('broadcast', ()), ('aggregation', OrderedDict([('mean_value', ()), ('mean_weight', ())])), ('train', OrderedDict([('sparse_categorical_accuracy', 0.24105), ('loss', 2.9405718)])), ('stat', OrderedDict([('num_examples', 20000)]))])\n",
            "round 10, metrics=OrderedDict([('broadcast', ()), ('aggregation', OrderedDict([('mean_value', ()), ('mean_weight', ())])), ('train', OrderedDict([('sparse_categorical_accuracy', 0.23715), ('loss', 2.959788)])), ('stat', OrderedDict([('num_examples', 20000)]))])\n",
            "round 11, metrics=OrderedDict([('broadcast', ()), ('aggregation', OrderedDict([('mean_value', ()), ('mean_weight', ())])), ('train', OrderedDict([('sparse_categorical_accuracy', 0.26535), ('loss', 2.7618928)])), ('stat', OrderedDict([('num_examples', 20000)]))])\n",
            "round 12, metrics=OrderedDict([('broadcast', ()), ('aggregation', OrderedDict([('mean_value', ()), ('mean_weight', ())])), ('train', OrderedDict([('sparse_categorical_accuracy', 0.25805), ('loss', 2.792164)])), ('stat', OrderedDict([('num_examples', 20000)]))])\n",
            "round 13, metrics=OrderedDict([('broadcast', ()), ('aggregation', OrderedDict([('mean_value', ()), ('mean_weight', ())])), ('train', OrderedDict([('sparse_categorical_accuracy', 0.24775), ('loss', 2.8605037)])), ('stat', OrderedDict([('num_examples', 20000)]))])\n",
            "round 14, metrics=OrderedDict([('broadcast', ()), ('aggregation', OrderedDict([('mean_value', ()), ('mean_weight', ())])), ('train', OrderedDict([('sparse_categorical_accuracy', 0.27195), ('loss', 2.7450836)])), ('stat', OrderedDict([('num_examples', 20000)]))])\n",
            "round 15, metrics=OrderedDict([('broadcast', ()), ('aggregation', OrderedDict([('mean_value', ()), ('mean_weight', ())])), ('train', OrderedDict([('sparse_categorical_accuracy', 0.24865), ('loss', 2.8887038)])), ('stat', OrderedDict([('num_examples', 20000)]))])\n",
            "round 16, metrics=OrderedDict([('broadcast', ()), ('aggregation', OrderedDict([('mean_value', ()), ('mean_weight', ())])), ('train', OrderedDict([('sparse_categorical_accuracy', 0.2474), ('loss', 2.8483694)])), ('stat', OrderedDict([('num_examples', 20000)]))])\n",
            "round 17, metrics=OrderedDict([('broadcast', ()), ('aggregation', OrderedDict([('mean_value', ()), ('mean_weight', ())])), ('train', OrderedDict([('sparse_categorical_accuracy', 0.27425), ('loss', 2.7920074)])), ('stat', OrderedDict([('num_examples', 20000)]))])\n",
            "round 18, metrics=OrderedDict([('broadcast', ()), ('aggregation', OrderedDict([('mean_value', ()), ('mean_weight', ())])), ('train', OrderedDict([('sparse_categorical_accuracy', 0.2371), ('loss', 2.9014056)])), ('stat', OrderedDict([('num_examples', 20000)]))])\n",
            "round 19, metrics=OrderedDict([('broadcast', ()), ('aggregation', OrderedDict([('mean_value', ()), ('mean_weight', ())])), ('train', OrderedDict([('sparse_categorical_accuracy', 0.26375), ('loss', 2.7801988)])), ('stat', OrderedDict([('num_examples', 20000)]))])\n",
            "round 20, metrics=OrderedDict([('broadcast', ()), ('aggregation', OrderedDict([('mean_value', ()), ('mean_weight', ())])), ('train', OrderedDict([('sparse_categorical_accuracy', 0.25415), ('loss', 2.8465495)])), ('stat', OrderedDict([('num_examples', 20000)]))])\n",
            "round 21, metrics=OrderedDict([('broadcast', ()), ('aggregation', OrderedDict([('mean_value', ()), ('mean_weight', ())])), ('train', OrderedDict([('sparse_categorical_accuracy', 0.2939), ('loss', 2.6739335)])), ('stat', OrderedDict([('num_examples', 20000)]))])\n",
            "round 22, metrics=OrderedDict([('broadcast', ()), ('aggregation', OrderedDict([('mean_value', ()), ('mean_weight', ())])), ('train', OrderedDict([('sparse_categorical_accuracy', 0.31135), ('loss', 2.566706)])), ('stat', OrderedDict([('num_examples', 20000)]))])\n",
            "round 23, metrics=OrderedDict([('broadcast', ()), ('aggregation', OrderedDict([('mean_value', ()), ('mean_weight', ())])), ('train', OrderedDict([('sparse_categorical_accuracy', 0.30775), ('loss', 2.5884755)])), ('stat', OrderedDict([('num_examples', 20000)]))])\n",
            "round 24, metrics=OrderedDict([('broadcast', ()), ('aggregation', OrderedDict([('mean_value', ()), ('mean_weight', ())])), ('train', OrderedDict([('sparse_categorical_accuracy', 0.3571), ('loss', 2.3729568)])), ('stat', OrderedDict([('num_examples', 20000)]))])\n",
            "round 25, metrics=OrderedDict([('broadcast', ()), ('aggregation', OrderedDict([('mean_value', ()), ('mean_weight', ())])), ('train', OrderedDict([('sparse_categorical_accuracy', 0.3719), ('loss', 2.3160698)])), ('stat', OrderedDict([('num_examples', 20000)]))])\n",
            "round 26, metrics=OrderedDict([('broadcast', ()), ('aggregation', OrderedDict([('mean_value', ()), ('mean_weight', ())])), ('train', OrderedDict([('sparse_categorical_accuracy', 0.42045), ('loss', 2.182953)])), ('stat', OrderedDict([('num_examples', 20000)]))])\n",
            "round 27, metrics=OrderedDict([('broadcast', ()), ('aggregation', OrderedDict([('mean_value', ()), ('mean_weight', ())])), ('train', OrderedDict([('sparse_categorical_accuracy', 0.46015), ('loss', 1.9920791)])), ('stat', OrderedDict([('num_examples', 20000)]))])\n",
            "round 28, metrics=OrderedDict([('broadcast', ()), ('aggregation', OrderedDict([('mean_value', ()), ('mean_weight', ())])), ('train', OrderedDict([('sparse_categorical_accuracy', 0.53075), ('loss', 1.7073742)])), ('stat', OrderedDict([('num_examples', 20000)]))])\n",
            "round 29, metrics=OrderedDict([('broadcast', ()), ('aggregation', OrderedDict([('mean_value', ()), ('mean_weight', ())])), ('train', OrderedDict([('sparse_categorical_accuracy', 0.5489), ('loss', 1.6510297)])), ('stat', OrderedDict([('num_examples', 20000)]))])\n",
            "round 30, metrics=OrderedDict([('broadcast', ()), ('aggregation', OrderedDict([('mean_value', ()), ('mean_weight', ())])), ('train', OrderedDict([('sparse_categorical_accuracy', 0.59755), ('loss', 1.5140272)])), ('stat', OrderedDict([('num_examples', 20000)]))])\n",
            "round 31, metrics=OrderedDict([('broadcast', ()), ('aggregation', OrderedDict([('mean_value', ()), ('mean_weight', ())])), ('train', OrderedDict([('sparse_categorical_accuracy', 0.61935), ('loss', 1.421756)])), ('stat', OrderedDict([('num_examples', 20000)]))])\n",
            "round 32, metrics=OrderedDict([('broadcast', ()), ('aggregation', OrderedDict([('mean_value', ()), ('mean_weight', ())])), ('train', OrderedDict([('sparse_categorical_accuracy', 0.63095), ('loss', 1.3959477)])), ('stat', OrderedDict([('num_examples', 20000)]))])\n",
            "round 33, metrics=OrderedDict([('broadcast', ()), ('aggregation', OrderedDict([('mean_value', ()), ('mean_weight', ())])), ('train', OrderedDict([('sparse_categorical_accuracy', 0.62485), ('loss', 1.4572066)])), ('stat', OrderedDict([('num_examples', 20000)]))])\n",
            "round 34, metrics=OrderedDict([('broadcast', ()), ('aggregation', OrderedDict([('mean_value', ()), ('mean_weight', ())])), ('train', OrderedDict([('sparse_categorical_accuracy', 0.6581), ('loss', 1.3457358)])), ('stat', OrderedDict([('num_examples', 20000)]))])\n",
            "round 35, metrics=OrderedDict([('broadcast', ()), ('aggregation', OrderedDict([('mean_value', ()), ('mean_weight', ())])), ('train', OrderedDict([('sparse_categorical_accuracy', 0.6858), ('loss', 1.2172557)])), ('stat', OrderedDict([('num_examples', 20000)]))])\n",
            "round 36, metrics=OrderedDict([('broadcast', ()), ('aggregation', OrderedDict([('mean_value', ()), ('mean_weight', ())])), ('train', OrderedDict([('sparse_categorical_accuracy', 0.6636), ('loss', 1.3398745)])), ('stat', OrderedDict([('num_examples', 20000)]))])\n",
            "round 37, metrics=OrderedDict([('broadcast', ()), ('aggregation', OrderedDict([('mean_value', ()), ('mean_weight', ())])), ('train', OrderedDict([('sparse_categorical_accuracy', 0.71065), ('loss', 1.1527562)])), ('stat', OrderedDict([('num_examples', 20000)]))])\n",
            "round 38, metrics=OrderedDict([('broadcast', ()), ('aggregation', OrderedDict([('mean_value', ()), ('mean_weight', ())])), ('train', OrderedDict([('sparse_categorical_accuracy', 0.7144), ('loss', 1.1436538)])), ('stat', OrderedDict([('num_examples', 20000)]))])\n",
            "round 39, metrics=OrderedDict([('broadcast', ()), ('aggregation', OrderedDict([('mean_value', ()), ('mean_weight', ())])), ('train', OrderedDict([('sparse_categorical_accuracy', 0.71405), ('loss', 1.1735559)])), ('stat', OrderedDict([('num_examples', 20000)]))])\n",
            "round 40, metrics=OrderedDict([('broadcast', ()), ('aggregation', OrderedDict([('mean_value', ()), ('mean_weight', ())])), ('train', OrderedDict([('sparse_categorical_accuracy', 0.7374), ('loss', 1.0457668)])), ('stat', OrderedDict([('num_examples', 20000)]))])\n",
            "round 41, metrics=OrderedDict([('broadcast', ()), ('aggregation', OrderedDict([('mean_value', ()), ('mean_weight', ())])), ('train', OrderedDict([('sparse_categorical_accuracy', 0.72835), ('loss', 1.1121002)])), ('stat', OrderedDict([('num_examples', 20000)]))])\n",
            "round 42, metrics=OrderedDict([('broadcast', ()), ('aggregation', OrderedDict([('mean_value', ()), ('mean_weight', ())])), ('train', OrderedDict([('sparse_categorical_accuracy', 0.735), ('loss', 1.0958045)])), ('stat', OrderedDict([('num_examples', 20000)]))])\n",
            "round 43, metrics=OrderedDict([('broadcast', ()), ('aggregation', OrderedDict([('mean_value', ()), ('mean_weight', ())])), ('train', OrderedDict([('sparse_categorical_accuracy', 0.7273), ('loss', 1.1209855)])), ('stat', OrderedDict([('num_examples', 20000)]))])\n",
            "round 44, metrics=OrderedDict([('broadcast', ()), ('aggregation', OrderedDict([('mean_value', ()), ('mean_weight', ())])), ('train', OrderedDict([('sparse_categorical_accuracy', 0.74945), ('loss', 1.0227647)])), ('stat', OrderedDict([('num_examples', 20000)]))])\n",
            "round 45, metrics=OrderedDict([('broadcast', ()), ('aggregation', OrderedDict([('mean_value', ()), ('mean_weight', ())])), ('train', OrderedDict([('sparse_categorical_accuracy', 0.75955), ('loss', 1.0100943)])), ('stat', OrderedDict([('num_examples', 20000)]))])\n",
            "round 46, metrics=OrderedDict([('broadcast', ()), ('aggregation', OrderedDict([('mean_value', ()), ('mean_weight', ())])), ('train', OrderedDict([('sparse_categorical_accuracy', 0.7557), ('loss', 1.0157906)])), ('stat', OrderedDict([('num_examples', 20000)]))])\n",
            "round 47, metrics=OrderedDict([('broadcast', ()), ('aggregation', OrderedDict([('mean_value', ()), ('mean_weight', ())])), ('train', OrderedDict([('sparse_categorical_accuracy', 0.75975), ('loss', 0.99451077)])), ('stat', OrderedDict([('num_examples', 20000)]))])\n",
            "round 48, metrics=OrderedDict([('broadcast', ()), ('aggregation', OrderedDict([('mean_value', ()), ('mean_weight', ())])), ('train', OrderedDict([('sparse_categorical_accuracy', 0.7606), ('loss', 0.9810255)])), ('stat', OrderedDict([('num_examples', 20000)]))])\n",
            "round 49, metrics=OrderedDict([('broadcast', ()), ('aggregation', OrderedDict([('mean_value', ()), ('mean_weight', ())])), ('train', OrderedDict([('sparse_categorical_accuracy', 0.77855), ('loss', 0.9215475)])), ('stat', OrderedDict([('num_examples', 20000)]))])\n",
            "round 50, metrics=OrderedDict([('broadcast', ()), ('aggregation', OrderedDict([('mean_value', ()), ('mean_weight', ())])), ('train', OrderedDict([('sparse_categorical_accuracy', 0.7627), ('loss', 1.0123912)])), ('stat', OrderedDict([('num_examples', 20000)]))])\n",
            "round 51, metrics=OrderedDict([('broadcast', ()), ('aggregation', OrderedDict([('mean_value', ()), ('mean_weight', ())])), ('train', OrderedDict([('sparse_categorical_accuracy', 0.77795), ('loss', 0.9417533)])), ('stat', OrderedDict([('num_examples', 20000)]))])\n",
            "round 52, metrics=OrderedDict([('broadcast', ()), ('aggregation', OrderedDict([('mean_value', ()), ('mean_weight', ())])), ('train', OrderedDict([('sparse_categorical_accuracy', 0.78015), ('loss', 0.9288826)])), ('stat', OrderedDict([('num_examples', 20000)]))])\n",
            "round 53, metrics=OrderedDict([('broadcast', ()), ('aggregation', OrderedDict([('mean_value', ()), ('mean_weight', ())])), ('train', OrderedDict([('sparse_categorical_accuracy', 0.77535), ('loss', 0.96422714)])), ('stat', OrderedDict([('num_examples', 20000)]))])\n",
            "round 54, metrics=OrderedDict([('broadcast', ()), ('aggregation', OrderedDict([('mean_value', ()), ('mean_weight', ())])), ('train', OrderedDict([('sparse_categorical_accuracy', 0.79255), ('loss', 0.886159)])), ('stat', OrderedDict([('num_examples', 20000)]))])\n",
            "round 55, metrics=OrderedDict([('broadcast', ()), ('aggregation', OrderedDict([('mean_value', ()), ('mean_weight', ())])), ('train', OrderedDict([('sparse_categorical_accuracy', 0.78765), ('loss', 0.9022777)])), ('stat', OrderedDict([('num_examples', 20000)]))])\n",
            "round 56, metrics=OrderedDict([('broadcast', ()), ('aggregation', OrderedDict([('mean_value', ()), ('mean_weight', ())])), ('train', OrderedDict([('sparse_categorical_accuracy', 0.79165), ('loss', 0.9037295)])), ('stat', OrderedDict([('num_examples', 20000)]))])\n",
            "round 57, metrics=OrderedDict([('broadcast', ()), ('aggregation', OrderedDict([('mean_value', ()), ('mean_weight', ())])), ('train', OrderedDict([('sparse_categorical_accuracy', 0.7966), ('loss', 0.8652803)])), ('stat', OrderedDict([('num_examples', 20000)]))])\n",
            "round 58, metrics=OrderedDict([('broadcast', ()), ('aggregation', OrderedDict([('mean_value', ()), ('mean_weight', ())])), ('train', OrderedDict([('sparse_categorical_accuracy', 0.7914), ('loss', 0.8996449)])), ('stat', OrderedDict([('num_examples', 20000)]))])\n",
            "round 59, metrics=OrderedDict([('broadcast', ()), ('aggregation', OrderedDict([('mean_value', ()), ('mean_weight', ())])), ('train', OrderedDict([('sparse_categorical_accuracy', 0.78975), ('loss', 0.89918095)])), ('stat', OrderedDict([('num_examples', 20000)]))])\n",
            "round 60, metrics=OrderedDict([('broadcast', ()), ('aggregation', OrderedDict([('mean_value', ()), ('mean_weight', ())])), ('train', OrderedDict([('sparse_categorical_accuracy', 0.79665), ('loss', 0.8696182)])), ('stat', OrderedDict([('num_examples', 20000)]))])\n",
            "round 61, metrics=OrderedDict([('broadcast', ()), ('aggregation', OrderedDict([('mean_value', ()), ('mean_weight', ())])), ('train', OrderedDict([('sparse_categorical_accuracy', 0.80375), ('loss', 0.8413302)])), ('stat', OrderedDict([('num_examples', 20000)]))])\n",
            "round 62, metrics=OrderedDict([('broadcast', ()), ('aggregation', OrderedDict([('mean_value', ()), ('mean_weight', ())])), ('train', OrderedDict([('sparse_categorical_accuracy', 0.81045), ('loss', 0.84149504)])), ('stat', OrderedDict([('num_examples', 20000)]))])\n",
            "round 63, metrics=OrderedDict([('broadcast', ()), ('aggregation', OrderedDict([('mean_value', ()), ('mean_weight', ())])), ('train', OrderedDict([('sparse_categorical_accuracy', 0.8032), ('loss', 0.8466083)])), ('stat', OrderedDict([('num_examples', 20000)]))])\n",
            "round 64, metrics=OrderedDict([('broadcast', ()), ('aggregation', OrderedDict([('mean_value', ()), ('mean_weight', ())])), ('train', OrderedDict([('sparse_categorical_accuracy', 0.8151), ('loss', 0.8040984)])), ('stat', OrderedDict([('num_examples', 20000)]))])\n",
            "round 65, metrics=OrderedDict([('broadcast', ()), ('aggregation', OrderedDict([('mean_value', ()), ('mean_weight', ())])), ('train', OrderedDict([('sparse_categorical_accuracy', 0.808), ('loss', 0.8336996)])), ('stat', OrderedDict([('num_examples', 20000)]))])\n",
            "round 66, metrics=OrderedDict([('broadcast', ()), ('aggregation', OrderedDict([('mean_value', ()), ('mean_weight', ())])), ('train', OrderedDict([('sparse_categorical_accuracy', 0.8066), ('loss', 0.84698147)])), ('stat', OrderedDict([('num_examples', 20000)]))])\n",
            "round 67, metrics=OrderedDict([('broadcast', ()), ('aggregation', OrderedDict([('mean_value', ()), ('mean_weight', ())])), ('train', OrderedDict([('sparse_categorical_accuracy', 0.81665), ('loss', 0.7903427)])), ('stat', OrderedDict([('num_examples', 20000)]))])\n",
            "round 68, metrics=OrderedDict([('broadcast', ()), ('aggregation', OrderedDict([('mean_value', ()), ('mean_weight', ())])), ('train', OrderedDict([('sparse_categorical_accuracy', 0.80975), ('loss', 0.84196097)])), ('stat', OrderedDict([('num_examples', 20000)]))])\n",
            "round 69, metrics=OrderedDict([('broadcast', ()), ('aggregation', OrderedDict([('mean_value', ()), ('mean_weight', ())])), ('train', OrderedDict([('sparse_categorical_accuracy', 0.81315), ('loss', 0.81389964)])), ('stat', OrderedDict([('num_examples', 20000)]))])\n",
            "round 70, metrics=OrderedDict([('broadcast', ()), ('aggregation', OrderedDict([('mean_value', ()), ('mean_weight', ())])), ('train', OrderedDict([('sparse_categorical_accuracy', 0.82), ('loss', 0.7864446)])), ('stat', OrderedDict([('num_examples', 20000)]))])\n",
            "round 71, metrics=OrderedDict([('broadcast', ()), ('aggregation', OrderedDict([('mean_value', ()), ('mean_weight', ())])), ('train', OrderedDict([('sparse_categorical_accuracy', 0.81905), ('loss', 0.79378384)])), ('stat', OrderedDict([('num_examples', 20000)]))])\n",
            "round 72, metrics=OrderedDict([('broadcast', ()), ('aggregation', OrderedDict([('mean_value', ()), ('mean_weight', ())])), ('train', OrderedDict([('sparse_categorical_accuracy', 0.81945), ('loss', 0.7885133)])), ('stat', OrderedDict([('num_examples', 20000)]))])\n",
            "round 73, metrics=OrderedDict([('broadcast', ()), ('aggregation', OrderedDict([('mean_value', ()), ('mean_weight', ())])), ('train', OrderedDict([('sparse_categorical_accuracy', 0.81575), ('loss', 0.8009436)])), ('stat', OrderedDict([('num_examples', 20000)]))])\n",
            "round 74, metrics=OrderedDict([('broadcast', ()), ('aggregation', OrderedDict([('mean_value', ()), ('mean_weight', ())])), ('train', OrderedDict([('sparse_categorical_accuracy', 0.82), ('loss', 0.78773224)])), ('stat', OrderedDict([('num_examples', 20000)]))])\n",
            "round 75, metrics=OrderedDict([('broadcast', ()), ('aggregation', OrderedDict([('mean_value', ()), ('mean_weight', ())])), ('train', OrderedDict([('sparse_categorical_accuracy', 0.81775), ('loss', 0.7942798)])), ('stat', OrderedDict([('num_examples', 20000)]))])\n",
            "round 76, metrics=OrderedDict([('broadcast', ()), ('aggregation', OrderedDict([('mean_value', ()), ('mean_weight', ())])), ('train', OrderedDict([('sparse_categorical_accuracy', 0.82435), ('loss', 0.76395285)])), ('stat', OrderedDict([('num_examples', 20000)]))])\n",
            "round 77, metrics=OrderedDict([('broadcast', ()), ('aggregation', OrderedDict([('mean_value', ()), ('mean_weight', ())])), ('train', OrderedDict([('sparse_categorical_accuracy', 0.83045), ('loss', 0.77252245)])), ('stat', OrderedDict([('num_examples', 20000)]))])\n",
            "round 78, metrics=OrderedDict([('broadcast', ()), ('aggregation', OrderedDict([('mean_value', ()), ('mean_weight', ())])), ('train', OrderedDict([('sparse_categorical_accuracy', 0.8234), ('loss', 0.7841228)])), ('stat', OrderedDict([('num_examples', 20000)]))])\n",
            "round 79, metrics=OrderedDict([('broadcast', ()), ('aggregation', OrderedDict([('mean_value', ()), ('mean_weight', ())])), ('train', OrderedDict([('sparse_categorical_accuracy', 0.8292), ('loss', 0.7494584)])), ('stat', OrderedDict([('num_examples', 20000)]))])\n",
            "round 80, metrics=OrderedDict([('broadcast', ()), ('aggregation', OrderedDict([('mean_value', ()), ('mean_weight', ())])), ('train', OrderedDict([('sparse_categorical_accuracy', 0.8292), ('loss', 0.7341965)])), ('stat', OrderedDict([('num_examples', 20000)]))])\n",
            "round 81, metrics=OrderedDict([('broadcast', ()), ('aggregation', OrderedDict([('mean_value', ()), ('mean_weight', ())])), ('train', OrderedDict([('sparse_categorical_accuracy', 0.8268), ('loss', 0.77043504)])), ('stat', OrderedDict([('num_examples', 20000)]))])\n",
            "round 82, metrics=OrderedDict([('broadcast', ()), ('aggregation', OrderedDict([('mean_value', ()), ('mean_weight', ())])), ('train', OrderedDict([('sparse_categorical_accuracy', 0.8375), ('loss', 0.72468835)])), ('stat', OrderedDict([('num_examples', 20000)]))])\n",
            "round 83, metrics=OrderedDict([('broadcast', ()), ('aggregation', OrderedDict([('mean_value', ()), ('mean_weight', ())])), ('train', OrderedDict([('sparse_categorical_accuracy', 0.8263), ('loss', 0.7612387)])), ('stat', OrderedDict([('num_examples', 20000)]))])\n",
            "round 84, metrics=OrderedDict([('broadcast', ()), ('aggregation', OrderedDict([('mean_value', ()), ('mean_weight', ())])), ('train', OrderedDict([('sparse_categorical_accuracy', 0.83255), ('loss', 0.73884803)])), ('stat', OrderedDict([('num_examples', 20000)]))])\n",
            "round 85, metrics=OrderedDict([('broadcast', ()), ('aggregation', OrderedDict([('mean_value', ()), ('mean_weight', ())])), ('train', OrderedDict([('sparse_categorical_accuracy', 0.8356), ('loss', 0.7204723)])), ('stat', OrderedDict([('num_examples', 20000)]))])\n",
            "round 86, metrics=OrderedDict([('broadcast', ()), ('aggregation', OrderedDict([('mean_value', ()), ('mean_weight', ())])), ('train', OrderedDict([('sparse_categorical_accuracy', 0.83485), ('loss', 0.7278019)])), ('stat', OrderedDict([('num_examples', 20000)]))])\n",
            "round 87, metrics=OrderedDict([('broadcast', ()), ('aggregation', OrderedDict([('mean_value', ()), ('mean_weight', ())])), ('train', OrderedDict([('sparse_categorical_accuracy', 0.83745), ('loss', 0.69865346)])), ('stat', OrderedDict([('num_examples', 20000)]))])\n",
            "round 88, metrics=OrderedDict([('broadcast', ()), ('aggregation', OrderedDict([('mean_value', ()), ('mean_weight', ())])), ('train', OrderedDict([('sparse_categorical_accuracy', 0.84035), ('loss', 0.70621437)])), ('stat', OrderedDict([('num_examples', 20000)]))])\n",
            "round 89, metrics=OrderedDict([('broadcast', ()), ('aggregation', OrderedDict([('mean_value', ()), ('mean_weight', ())])), ('train', OrderedDict([('sparse_categorical_accuracy', 0.84365), ('loss', 0.68512064)])), ('stat', OrderedDict([('num_examples', 20000)]))])\n",
            "round 90, metrics=OrderedDict([('broadcast', ()), ('aggregation', OrderedDict([('mean_value', ()), ('mean_weight', ())])), ('train', OrderedDict([('sparse_categorical_accuracy', 0.83275), ('loss', 0.74926907)])), ('stat', OrderedDict([('num_examples', 20000)]))])\n",
            "round 91, metrics=OrderedDict([('broadcast', ()), ('aggregation', OrderedDict([('mean_value', ()), ('mean_weight', ())])), ('train', OrderedDict([('sparse_categorical_accuracy', 0.8349), ('loss', 0.7152695)])), ('stat', OrderedDict([('num_examples', 20000)]))])\n",
            "round 92, metrics=OrderedDict([('broadcast', ()), ('aggregation', OrderedDict([('mean_value', ()), ('mean_weight', ())])), ('train', OrderedDict([('sparse_categorical_accuracy', 0.837), ('loss', 0.72269094)])), ('stat', OrderedDict([('num_examples', 20000)]))])\n",
            "round 93, metrics=OrderedDict([('broadcast', ()), ('aggregation', OrderedDict([('mean_value', ()), ('mean_weight', ())])), ('train', OrderedDict([('sparse_categorical_accuracy', 0.8424), ('loss', 0.6866769)])), ('stat', OrderedDict([('num_examples', 20000)]))])\n",
            "round 94, metrics=OrderedDict([('broadcast', ()), ('aggregation', OrderedDict([('mean_value', ()), ('mean_weight', ())])), ('train', OrderedDict([('sparse_categorical_accuracy', 0.8441), ('loss', 0.6677428)])), ('stat', OrderedDict([('num_examples', 20000)]))])\n",
            "round 95, metrics=OrderedDict([('broadcast', ()), ('aggregation', OrderedDict([('mean_value', ()), ('mean_weight', ())])), ('train', OrderedDict([('sparse_categorical_accuracy', 0.84275), ('loss', 0.68212575)])), ('stat', OrderedDict([('num_examples', 20000)]))])\n",
            "round 96, metrics=OrderedDict([('broadcast', ()), ('aggregation', OrderedDict([('mean_value', ()), ('mean_weight', ())])), ('train', OrderedDict([('sparse_categorical_accuracy', 0.8453), ('loss', 0.67679113)])), ('stat', OrderedDict([('num_examples', 20000)]))])\n",
            "round 97, metrics=OrderedDict([('broadcast', ()), ('aggregation', OrderedDict([('mean_value', ()), ('mean_weight', ())])), ('train', OrderedDict([('sparse_categorical_accuracy', 0.84295), ('loss', 0.6995839)])), ('stat', OrderedDict([('num_examples', 20000)]))])\n",
            "round 98, metrics=OrderedDict([('broadcast', ()), ('aggregation', OrderedDict([('mean_value', ()), ('mean_weight', ())])), ('train', OrderedDict([('sparse_categorical_accuracy', 0.85375), ('loss', 0.65581393)])), ('stat', OrderedDict([('num_examples', 20000)]))])\n",
            "round 99, metrics=OrderedDict([('broadcast', ()), ('aggregation', OrderedDict([('mean_value', ()), ('mean_weight', ())])), ('train', OrderedDict([('sparse_categorical_accuracy', 0.8427), ('loss', 0.7018875)])), ('stat', OrderedDict([('num_examples', 20000)]))])\n"
          ]
        }
      ]
    },
    {
      "cell_type": "code",
      "source": [
        "(cifar_tTrain, cifar_tTainLabels), (cifar_tTest, cifar_tTestLabels) = tf.keras.datasets.cifar100.load_data()"
      ],
      "metadata": {
        "colab": {
          "base_uri": "https://localhost:8080/"
        },
        "id": "W9xUVIeTDHbp",
        "outputId": "d8163d42-e841-44c1-d1ee-0fa274c4fd15"
      },
      "execution_count": null,
      "outputs": [
        {
          "output_type": "stream",
          "name": "stdout",
          "text": [
            "Downloading data from https://www.cs.toronto.edu/~kriz/cifar-100-python.tar.gz\n",
            "169009152/169001437 [==============================] - 2s 0us/step\n"
          ]
        }
      ]
    },
    {
      "cell_type": "code",
      "source": [
        "tModel = tf.keras.applications.MobileNetV2((32, 32, 3), classes=100, weights=None)\n",
        "\n",
        "tModel.compile(optimizer=tf.keras.optimizers.Adam(),\n",
        "              loss=tf.keras.losses.SparseCategoricalCrossentropy(from_logits=True),\n",
        "              metrics=['accuracy'])\n",
        "\n",
        "history = tModel.fit(cifar_tTrain, cifar_tTainLabels, epochs=10, \n",
        "                    validation_data=(cifar_tTest, cifar_tTestLabels), batch_size=96)"
      ],
      "metadata": {
        "colab": {
          "base_uri": "https://localhost:8080/"
        },
        "id": "fguVoqUVDup8",
        "outputId": "b5ece15e-24f0-4aa0-b8f2-e0f65e048b6e"
      },
      "execution_count": null,
      "outputs": [
        {
          "output_type": "stream",
          "name": "stdout",
          "text": [
            "Epoch 1/10\n"
          ]
        },
        {
          "output_type": "stream",
          "name": "stderr",
          "text": [
            "/usr/local/lib/python3.7/dist-packages/tensorflow/python/keras/backend.py:4930: UserWarning: \"`sparse_categorical_crossentropy` received `from_logits=True`, but the `output` argument was produced by a sigmoid or softmax activation and thus does not represent logits. Was this intended?\"\n",
            "  '\"`sparse_categorical_crossentropy` received `from_logits=True`, but '\n"
          ]
        },
        {
          "output_type": "stream",
          "name": "stdout",
          "text": [
            "521/521 [==============================] - 404s 766ms/step - loss: 4.3362 - accuracy: 0.0498 - val_loss: 4.6526 - val_accuracy: 0.0100\n",
            "Epoch 2/10\n",
            "521/521 [==============================] - 394s 756ms/step - loss: 3.8688 - accuracy: 0.0992 - val_loss: 4.8459 - val_accuracy: 0.0100\n",
            "Epoch 3/10\n",
            "521/521 [==============================] - 393s 753ms/step - loss: 3.7868 - accuracy: 0.1145 - val_loss: 4.9111 - val_accuracy: 0.0100\n",
            "Epoch 4/10\n",
            "521/521 [==============================] - 393s 754ms/step - loss: 3.7458 - accuracy: 0.1286 - val_loss: 5.0758 - val_accuracy: 0.0100\n",
            "Epoch 5/10\n",
            "521/521 [==============================] - 391s 750ms/step - loss: 3.5077 - accuracy: 0.1590 - val_loss: 5.1627 - val_accuracy: 0.0100\n",
            "Epoch 6/10\n",
            "521/521 [==============================] - 391s 750ms/step - loss: 3.4078 - accuracy: 0.1762 - val_loss: 5.1890 - val_accuracy: 0.0100\n",
            "Epoch 7/10\n",
            "521/521 [==============================] - 391s 750ms/step - loss: 3.6688 - accuracy: 0.1386 - val_loss: 5.0143 - val_accuracy: 0.0100\n",
            "Epoch 8/10\n",
            "521/521 [==============================] - 392s 753ms/step - loss: 4.0477 - accuracy: 0.0911 - val_loss: 4.8010 - val_accuracy: 0.0131\n",
            "Epoch 9/10\n",
            "521/521 [==============================] - 391s 751ms/step - loss: 3.6107 - accuracy: 0.1457 - val_loss: 4.2693 - val_accuracy: 0.0450\n",
            "Epoch 10/10\n",
            "521/521 [==============================] - 389s 747ms/step - loss: 3.4320 - accuracy: 0.1757 - val_loss: 4.1996 - val_accuracy: 0.0657\n"
          ]
        }
      ]
    },
    {
      "cell_type": "code",
      "source": [
        "test_loss, test_acc = tModel.evaluate(cifar_tTest,  cifar_tTestLabels, verbose=2)"
      ],
      "metadata": {
        "colab": {
          "base_uri": "https://localhost:8080/",
          "height": 172
        },
        "id": "BkHj9PJeQBbQ",
        "outputId": "24e7b2a8-ec8e-47e0-fe89-0f61915745bc"
      },
      "execution_count": null,
      "outputs": [
        {
          "output_type": "error",
          "ename": "NameError",
          "evalue": "ignored",
          "traceback": [
            "\u001b[0;31m---------------------------------------------------------------------------\u001b[0m",
            "\u001b[0;31mNameError\u001b[0m                                 Traceback (most recent call last)",
            "\u001b[0;32m<ipython-input-10-44d5681a4bef>\u001b[0m in \u001b[0;36m<module>\u001b[0;34m()\u001b[0m\n\u001b[0;32m----> 1\u001b[0;31m \u001b[0mtest_loss\u001b[0m\u001b[0;34m,\u001b[0m \u001b[0mtest_acc\u001b[0m \u001b[0;34m=\u001b[0m \u001b[0mtModel\u001b[0m\u001b[0;34m.\u001b[0m\u001b[0mevaluate\u001b[0m\u001b[0;34m(\u001b[0m\u001b[0mcifar_tTest\u001b[0m\u001b[0;34m,\u001b[0m  \u001b[0mcifar_tTestLabels\u001b[0m\u001b[0;34m,\u001b[0m \u001b[0mverbose\u001b[0m\u001b[0;34m=\u001b[0m\u001b[0;36m2\u001b[0m\u001b[0;34m)\u001b[0m\u001b[0;34m\u001b[0m\u001b[0;34m\u001b[0m\u001b[0m\n\u001b[0m",
            "\u001b[0;31mNameError\u001b[0m: name 'tModel' is not defined"
          ]
        }
      ]
    },
    {
      "cell_type": "code",
      "source": [
        "accTen = [0.2206,0.2296,0.2739,0.2236,0.2867,0.2127,0.2391,0.2796,0.2826,0.2558,0.2856,0.3001,0.2653,0.2706,0.3295,0.3678,0.3406,0.3683,0.4475,0.4807,0.5077,0.5413,0.5949,0.612,0.6144,0.6542,0.6794,0.671,0.6783,0.7114,0.6947,0.7141\n",
        "       ,0.7193,0.7159,0.7288,0.7484,0.7491,0.7643,0.7433,0.7518,0.7651,0.774,0.7644,0.7849,0.7753,0.789,0.7927,0.7808,0.7841,0.8063,0.8044,0.7846,0.805,0.8015,0.8063,0.7961,0.8068,0.8049,0.8193,0.8065,0.8119,0.811,0.8126,0.8243\n",
        "       ,0.812,0.8183,0.8218,0.8243,0.8254,0.8184,0.831,0.8252,0.8225,0.8258,0.8401,0.8148,0.8294,0.8369,0.8273,0.8367,0.8293,0.8273,0.8288,0.8317,0.8371,0.84,0.8476,0.8343,0.8469,0.8389,0.8383,0.8413,0.8518,0.8428,0.8437,0.842\n",
        "       ,0.8439,0.8377,0.8618, 0.8392]\n",
        "\n",
        "accTwenty = [0.2543,0.27285,0.21445,0.2437,0.22145,0.19535,0.2615,0.2445,0.23075,0.24105,0.23715,0.26535,0.25805,0.24775,0.27195,0.24865,0.2474,0.27425,0.2371,0.26375,0.25415,0.2939,0.31135,0.30775,0.3571,0.3719,0.42045\n",
        "             ,0.46015,0.53075,0.5489,0.59755,0.61935,0.63095,0.62485,0.6581,0.6858,0.6636,0.71065,0.7144,0.71405,0.7374,0.72835,0.735,0.7273,0.74945,0.75955,0.7557,0.75975,0.7606,0.77855,0.7627,0.77795,0.78015,0.77535,0.79255\n",
        "             ,0.78765,0.79165,0.7966,0.7914,0.78975,0.79665,0.80375,0.81045,0.8032,0.8151,0.808,0.8066,0.81665,0.80975,0.81315,0.82,0.81905,0.81945,0.81575,0.82,0.81775,0.82435,0.83045,0.8234,0.8292,0.8292,0.8268,0.8375\n",
        "             ,0.8263,0.83255,0.8356,0.83485,0.83745,0.84035,0.84365,0.83275,0.8349,0.837,0.8424,0.8441,0.84275,0.8453,0.84295,0.85375,0.8427]\n",
        "accTwentyFive = [0.24856,0.236,0.252,0.24832,0.26496,0.2452,0.23972,0.24012,0.2668,0.24144,0.24676,0.23256,0.24456,0.25056,0.24036,0.24888,0.24548,0.27652,0.25572,0.29508,0.28956,0.28028,0.29096,0.30712,0.31568,0.33996,\n",
        "                 0.39884,0.41892,0.46808,0.50328,0.54184,0.58036,0.6132,0.6236,0.6494,0.66348,0.669,0.69108,0.70128,0.71592,0.72368,0.7122,0.7302,0.73752,0.74552,0.75208,0.75904,0.76008,0.75212,0.76616,0.7714,0.77416,\n",
        "                 0.77908,0.78448,0.79144,0.79204,0.78592,0.79976,0.79916,0.80344,0.7978,0.7966,0.8026,0.81516,0.79848,0.80996,0.81412,0.81228,0.81564,0.8254,0.81588,0.8188,0.82228,0.81576,0.82092,0.82228,0.82764,0.82444,\n",
        "                 0.82924,0.83232,0.83204,0.8358,0.82592,0.8348,0.83012,0.8358,0.8348,0.84172,0.84204,0.83716,0.83932,0.84488,0.84208,0.84512,0.84508,0.84736,0.85608,0.8492,0.85056,0.84344]\n",
        "\n",
        "accOne = [0.06232000142335892, 0.08141999691724777, 0.11104000359773636, 0.12977999448776245, 0.1430400013923645, 0.15449999272823334, 0.18050000071525574, 0.17336000502109528, 0.18017999827861786, 0.18860000371932983, \n",
        "          0.20997999608516693, 0.21578000485897064, 0.24164000153541565, 0.26725998520851135, 0.2768999934196472, 0.2948800027370453, 0.2906399965286255, 0.31676000356674194, 0.33489999175071716, 0.35275998711586, \n",
        "          0.36796000599861145, 0.3849399983882904, 0.40174001455307007, 0.41642001271247864, 0.4310399889945984, 0.4450399875640869, 0.46375998854637146, 0.47224000096321106, 0.48302000761032104, 0.49796000123023987, \n",
        "          0.509660005569458, 0.5185199975967407, 0.5293200016021729, 0.5421599745750427, 0.5573599934577942, 0.5674399733543396, 0.5779200196266174, 0.5863199830055237, 0.5961999893188477, 0.6088200211524963, \n",
        "          0.6184800267219543, 0.6233999729156494, 0.6388000249862671, 0.6466400027275085, 0.6558799743652344, 0.6597200036048889, 0.6690199971199036, 0.6796000003814697, 0.6832799911499023, 0.6909599900245667, \n",
        "          0.7033399939537048, 0.7113199830055237, 0.7142999768257141, 0.7244200110435486, 0.7313200235366821, 0.7383400201797485, 0.7389799952507019, 0.7459999918937683, 0.7495200037956238, 0.760699987411499, \n",
        "          0.7620599865913391, 0.7680000066757202, 0.7734599709510803, 0.7812600135803223, 0.7869600057601929, 0.7847399711608887, 0.7928000092506409, 0.7987200021743774, 0.7923799753189087, 0.8023599982261658, \n",
        "          0.8041999936103821, 0.8113399744033813, 0.8149999976158142, 0.8204399943351746, 0.8205000162124634, 0.8255599737167358, 0.8291000127792358, 0.8343200087547302, 0.8341599702835083, 0.8389000296592712, \n",
        "          0.8355000019073486, 0.8407599925994873, 0.8469799757003784, 0.8503000140190125, 0.847760021686554, 0.8503000140190125, 0.8580999970436096, 0.8579999804496765, 0.8597599864006042, 0.8640599846839905, \n",
        "          0.8658999800682068, 0.8641800284385681, 0.8642799854278564, 0.8688799738883972, 0.8691800236701965, 0.875, 0.8747000098228455, 0.872759997844696, 0.8798800110816956, 0.8855199813842773]\n",
        "\n",
        "plt.plot(accTen, label='Accuracy 10 Clients')\n",
        "plt.plot(accTwenty, label='Accuracy 20 Clients')\n",
        "plt.plot(accTwentyFive, label='Accuracy 25 Clients')\n",
        "plt.plot(accOne, label='Accuracy Centralized')\n",
        "plt.xlabel('Rounds/Epochs')\n",
        "plt.ylabel('Accuracy')\n",
        "plt.ylim([0, 1])\n",
        "plt.legend(loc='lower right')"
      ],
      "metadata": {
        "colab": {
          "base_uri": "https://localhost:8080/",
          "height": 301
        },
        "id": "iEXJpd6o8VnR",
        "outputId": "80bb4c69-2d66-4953-8385-e916e263bd60"
      },
      "execution_count": null,
      "outputs": [
        {
          "output_type": "execute_result",
          "data": {
            "text/plain": [
              "<matplotlib.legend.Legend at 0x7f8f500fb4d0>"
            ]
          },
          "metadata": {},
          "execution_count": 9
        },
        {
          "output_type": "display_data",
          "data": {
            "image/png": "[encoded data removed]",
            "text/plain": [
              "<Figure size 432x288 with 1 Axes>"
            ]
          },
          "metadata": {
            "needs_background": "light"
          }
        }
      ]
    }
  ]
}